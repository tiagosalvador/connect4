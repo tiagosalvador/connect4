{
 "cells": [
  {
   "cell_type": "code",
   "execution_count": 1,
   "metadata": {},
   "outputs": [],
   "source": [
    "import numpy as np\n",
    "import random\n",
    "import pandas as pd\n",
    "import torch"
   ]
  },
  {
   "cell_type": "code",
   "execution_count": 2,
   "metadata": {},
   "outputs": [],
   "source": [
    "from connect4 import connect4board, get_win_percentages\n",
    "from connect4players import player_random, player_left\n",
    "from connect4players import player_lvl1, player_lvl2\n",
    "from connect4players import player_onestep_lvl1, player_onestep_lvl2\n",
    "from connect4players import player_minmax_lvl1, player_alphabeta_lvl1, player_alphabeta_lvl1_v2\n",
    "# from connect4playerNN import player_nn"
   ]
  },
  {
   "cell_type": "markdown",
   "metadata": {},
   "source": [
    "### Left Player versus Random Player"
   ]
  },
  {
   "cell_type": "code",
   "execution_count": 3,
   "metadata": {},
   "outputs": [
    {
     "name": "stdout",
     "output_type": "stream",
     "text": [
      "Agent 1 Win Percentage: 0.82\n",
      "Agent 2 Win Percentage: 0.18\n",
      "Draws Percentage: 0.0\n",
      "Agent 1 Playing time per action 4.370966858262643e-05\n",
      "Agent 2 Playing time per action 5.273109345020288e-05\n"
     ]
    }
   ],
   "source": [
    "get_win_percentages(player_left,player_random,100)"
   ]
  },
  {
   "cell_type": "markdown",
   "metadata": {},
   "source": [
    "A player that always plays on the left most available column wins most of the games against a random player."
   ]
  },
  {
   "cell_type": "code",
   "execution_count": null,
   "metadata": {},
   "outputs": [],
   "source": [
    "get_win_percentages(player_lvl2,player_minmax_lvl1,100)"
   ]
  },
  {
   "cell_type": "markdown",
   "metadata": {},
   "source": [
    "### Left Player versus Random Player"
   ]
  },
  {
   "cell_type": "code",
   "execution_count": null,
   "metadata": {},
   "outputs": [],
   "source": [
    "get_win_percentages(player_lvl1,player_left,100)"
   ]
  },
  {
   "cell_type": "code",
   "execution_count": null,
   "metadata": {},
   "outputs": [],
   "source": []
  },
  {
   "cell_type": "code",
   "execution_count": null,
   "metadata": {},
   "outputs": [],
   "source": [
    "get_win_percentages(player_lvl2,player_left,100)"
   ]
  },
  {
   "cell_type": "code",
   "execution_count": null,
   "metadata": {
    "scrolled": true
   },
   "outputs": [],
   "source": [
    "get_win_percentages(player_lvl2,player_lvl1,100)"
   ]
  },
  {
   "cell_type": "code",
   "execution_count": null,
   "metadata": {},
   "outputs": [],
   "source": [
    "get_win_percentages(player_lvl2,player_lvl2,100)"
   ]
  },
  {
   "cell_type": "code",
   "execution_count": null,
   "metadata": {},
   "outputs": [],
   "source": [
    "get_win_percentages(player_lvl2,player_onestep_lvl1,100)"
   ]
  },
  {
   "cell_type": "code",
   "execution_count": null,
   "metadata": {},
   "outputs": [],
   "source": [
    "get_win_percentages(player_lvl2,player_onestep_lvl2,100)"
   ]
  },
  {
   "cell_type": "code",
   "execution_count": 6,
   "metadata": {},
   "outputs": [
    {
     "name": "stdout",
     "output_type": "stream",
     "text": [
      "Agent 1 Win Percentage: 0.0\n",
      "Agent 2 Win Percentage: 1.0\n",
      "Draws Percentage: 0.0\n",
      "Agent 1 Playing time per action 4.54594999979463e-05\n",
      "Agent 2 Playing time per action 5.114310871233339\n"
     ]
    }
   ],
   "source": [
    "get_win_percentages(player_left,player_minmax_lvl1,2)"
   ]
  },
  {
   "cell_type": "code",
   "execution_count": 9,
   "metadata": {},
   "outputs": [
    {
     "name": "stdout",
     "output_type": "stream",
     "text": [
      "Agent 1 Win Percentage: 0.0\n",
      "Agent 2 Win Percentage: 1.0\n",
      "Draws Percentage: 0.0\n",
      "Agent 1 Playing time per action 4.218880001189973e-05\n",
      "Agent 2 Playing time per action 2.057659891150004\n"
     ]
    }
   ],
   "source": [
    "get_win_percentages(player_left,player_alphabeta_lvl1,2)"
   ]
  },
  {
   "cell_type": "code",
   "execution_count": 10,
   "metadata": {},
   "outputs": [
    {
     "name": "stdout",
     "output_type": "stream",
     "text": [
      "Agent 1 Win Percentage: 0.0\n",
      "Agent 2 Win Percentage: 1.0\n",
      "Draws Percentage: 0.0\n",
      "Agent 1 Playing time per action 5.388604395699366e-05\n",
      "Agent 2 Playing time per action 2.397044364071436\n"
     ]
    }
   ],
   "source": [
    "get_win_percentages(player_random,player_alphabeta_lvl1,2)"
   ]
  },
  {
   "cell_type": "code",
   "execution_count": null,
   "metadata": {},
   "outputs": [],
   "source": [
    "get_win_percentages(player_lvl2,player_alphabeta_lvl1,2)"
   ]
  },
  {
   "cell_type": "code",
   "execution_count": null,
   "metadata": {},
   "outputs": [],
   "source": [
    "get_win_percentages(player_left,player_alphabeta_lvl1_v2,2)"
   ]
  },
  {
   "cell_type": "code",
   "execution_count": null,
   "metadata": {},
   "outputs": [],
   "source": []
  },
  {
   "cell_type": "code",
   "execution_count": null,
   "metadata": {},
   "outputs": [],
   "source": []
  }
 ],
 "metadata": {
  "kernelspec": {
   "display_name": "Python 3",
   "language": "python",
   "name": "python3"
  },
  "language_info": {
   "codemirror_mode": {
    "name": "ipython",
    "version": 3
   },
   "file_extension": ".py",
   "mimetype": "text/x-python",
   "name": "python",
   "nbconvert_exporter": "python",
   "pygments_lexer": "ipython3",
   "version": "3.7.4"
  }
 },
 "nbformat": 4,
 "nbformat_minor": 2
}
