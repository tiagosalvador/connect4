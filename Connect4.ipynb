{
 "cells": [
  {
   "cell_type": "code",
   "execution_count": 19,
   "metadata": {},
   "outputs": [],
   "source": [
    "import numpy as np\n",
    "import random\n",
    "import pandas as pd\n",
    "import torch"
   ]
  },
  {
   "cell_type": "code",
   "execution_count": 20,
   "metadata": {},
   "outputs": [],
   "source": [
    "from connect4 import connect4board, get_win_percentages\n",
    "from connect4players import player_random, player_left\n",
    "from connect4players import player_lvl1, player_lvl2\n",
    "from connect4players import player_onestep_lvl1, player_onestep_lvl2\n",
    "from connect4players import player_minmax_lvl1, player_alphabeta_lvl1, player_alphabeta_lvl1_v2"
   ]
  },
  {
   "cell_type": "markdown",
   "metadata": {},
   "source": [
    "### Left Player"
   ]
  },
  {
   "cell_type": "code",
   "execution_count": 3,
   "metadata": {},
   "outputs": [
    {
     "name": "stdout",
     "output_type": "stream",
     "text": [
      "Agent 1 Win Percentage: 0.81\n",
      "Agent 2 Win Percentage: 0.19\n",
      "Draws Percentage: 0.0\n",
      "Agent 1 Playing time per action 2.7643140154776564e-05\n",
      "Agent 2 Playing time per action 5.020398332858487e-05\n"
     ]
    }
   ],
   "source": [
    "get_win_percentages(player_left,player_random,100)"
   ]
  },
  {
   "cell_type": "markdown",
   "metadata": {},
   "source": [
    "A player that always plays on the left most available column wins most of the games against a random player."
   ]
  },
  {
   "cell_type": "markdown",
   "metadata": {},
   "source": [
    "### Player Lvl 1"
   ]
  },
  {
   "cell_type": "markdown",
   "metadata": {},
   "source": [
    "Player Lvl 1 is a player that plays a winning move if one is available, otherwise it plays randomly. This player performs better agains the left player, but it still loses most of the time"
   ]
  },
  {
   "cell_type": "code",
   "execution_count": 4,
   "metadata": {},
   "outputs": [
    {
     "name": "stdout",
     "output_type": "stream",
     "text": [
      "Agent 1 Win Percentage: 0.38\n",
      "Agent 2 Win Percentage: 0.62\n",
      "Draws Percentage: 0.0\n",
      "Agent 1 Playing time per action 0.007928666495442294\n",
      "Agent 2 Playing time per action 2.9356982484168045e-05\n"
     ]
    }
   ],
   "source": [
    "get_win_percentages(player_lvl1,player_left,100)"
   ]
  },
  {
   "cell_type": "code",
   "execution_count": 5,
   "metadata": {},
   "outputs": [
    {
     "name": "stdout",
     "output_type": "stream",
     "text": [
      "Agent 1 Win Percentage: 0.78\n",
      "Agent 2 Win Percentage: 0.22\n",
      "Draws Percentage: 0.0\n",
      "Agent 1 Playing time per action 0.006974980784219482\n",
      "Agent 2 Playing time per action 3.500790160872188e-05\n"
     ]
    }
   ],
   "source": [
    "get_win_percentages(player_lvl1,player_random,100)"
   ]
  },
  {
   "cell_type": "markdown",
   "metadata": {},
   "source": [
    "### Player Lvl 2"
   ]
  },
  {
   "cell_type": "markdown",
   "metadata": {},
   "source": [
    "Player Lvl 2 is a player that plays a winning move if one is available, block a winning move of the opponent player if one exists, otherwise it plays randomly. By looking to block the oponent, Player Lvl 2 almost never loses against Left Player."
   ]
  },
  {
   "cell_type": "code",
   "execution_count": 6,
   "metadata": {},
   "outputs": [
    {
     "name": "stdout",
     "output_type": "stream",
     "text": [
      "Agent 1 Win Percentage: 1.0\n",
      "Agent 2 Win Percentage: 0.0\n",
      "Draws Percentage: 0.0\n",
      "Agent 1 Playing time per action 0.01046497046436243\n",
      "Agent 2 Playing time per action 2.7915773426658506e-05\n"
     ]
    }
   ],
   "source": [
    "get_win_percentages(player_lvl2,player_left,100)"
   ]
  },
  {
   "cell_type": "code",
   "execution_count": 7,
   "metadata": {},
   "outputs": [
    {
     "name": "stdout",
     "output_type": "stream",
     "text": [
      "Agent 1 Win Percentage: 0.97\n",
      "Agent 2 Win Percentage: 0.03\n",
      "Draws Percentage: 0.0\n",
      "Agent 1 Playing time per action 0.008618692922354886\n",
      "Agent 2 Playing time per action 2.7895386811576557e-05\n"
     ]
    }
   ],
   "source": [
    "get_win_percentages(player_lvl2,player_random,100)"
   ]
  },
  {
   "cell_type": "markdown",
   "metadata": {},
   "source": [
    "As one might expect it wins most of the games against Player Lvl 1, but loses more games when compared to the Left Player. This is due the randomess in the strategy of Player Lvl 1."
   ]
  },
  {
   "cell_type": "code",
   "execution_count": 8,
   "metadata": {
    "scrolled": true
   },
   "outputs": [
    {
     "name": "stdout",
     "output_type": "stream",
     "text": [
      "Agent 1 Win Percentage: 0.83\n",
      "Agent 2 Win Percentage: 0.17\n",
      "Draws Percentage: 0.0\n",
      "Agent 1 Playing time per action 0.0077923072677516855\n",
      "Agent 2 Playing time per action 0.0042550609587616\n"
     ]
    }
   ],
   "source": [
    "get_win_percentages(player_lvl2,player_lvl1,100)"
   ]
  },
  {
   "cell_type": "markdown",
   "metadata": {},
   "source": [
    "### Player One Step Look ahead"
   ]
  },
  {
   "cell_type": "markdown",
   "metadata": {},
   "source": [
    "This player scores his possible moves and plays the highest scoring move. It naturally outperforms all the previous players. This has of course a computational cost associated it."
   ]
  },
  {
   "cell_type": "code",
   "execution_count": 9,
   "metadata": {},
   "outputs": [
    {
     "name": "stdout",
     "output_type": "stream",
     "text": [
      "Agent 1 Win Percentage: 0.98\n",
      "Agent 2 Win Percentage: 0.02\n",
      "Draws Percentage: 0.0\n",
      "Agent 1 Playing time per action 0.03667270156415816\n",
      "Agent 2 Playing time per action 2.4273660991122855e-05\n"
     ]
    }
   ],
   "source": [
    "get_win_percentages(player_onestep_lvl1,player_random,100)"
   ]
  },
  {
   "cell_type": "code",
   "execution_count": 10,
   "metadata": {},
   "outputs": [
    {
     "name": "stdout",
     "output_type": "stream",
     "text": [
      "Agent 1 Win Percentage: 1.0\n",
      "Agent 2 Win Percentage: 0.0\n",
      "Draws Percentage: 0.0\n",
      "Agent 1 Playing time per action 0.03507013471357552\n",
      "Agent 2 Playing time per action 1.9013259749512497e-05\n"
     ]
    }
   ],
   "source": [
    "get_win_percentages(player_onestep_lvl1,player_left,100)"
   ]
  },
  {
   "cell_type": "code",
   "execution_count": 11,
   "metadata": {},
   "outputs": [
    {
     "name": "stdout",
     "output_type": "stream",
     "text": [
      "Agent 1 Win Percentage: 0.92\n",
      "Agent 2 Win Percentage: 0.08\n",
      "Draws Percentage: 0.0\n",
      "Agent 1 Playing time per action 0.03857129682397586\n",
      "Agent 2 Playing time per action 0.004374333805072911\n"
     ]
    }
   ],
   "source": [
    "get_win_percentages(player_onestep_lvl1,player_lvl1,100)"
   ]
  },
  {
   "cell_type": "code",
   "execution_count": 12,
   "metadata": {},
   "outputs": [
    {
     "name": "stdout",
     "output_type": "stream",
     "text": [
      "Agent 1 Win Percentage: 0.7\n",
      "Agent 2 Win Percentage: 0.28\n",
      "Draws Percentage: 0.02\n",
      "Agent 1 Playing time per action 0.0447149739729558\n",
      "Agent 2 Playing time per action 0.008964697515633469\n"
     ]
    }
   ],
   "source": [
    "get_win_percentages(player_onestep_lvl1,player_lvl2,100)"
   ]
  },
  {
   "cell_type": "markdown",
   "metadata": {},
   "source": [
    "By improving its heuristic to score the possible moves, we can improve his performance."
   ]
  },
  {
   "cell_type": "code",
   "execution_count": 13,
   "metadata": {},
   "outputs": [
    {
     "name": "stdout",
     "output_type": "stream",
     "text": [
      "Agent 1 Win Percentage: 0.92\n",
      "Agent 2 Win Percentage: 0.08\n",
      "Draws Percentage: 0.0\n",
      "Agent 1 Playing time per action 0.07263619888800536\n",
      "Agent 2 Playing time per action 0.00827221247722732\n"
     ]
    }
   ],
   "source": [
    "get_win_percentages(player_onestep_lvl2,player_lvl2,100)"
   ]
  },
  {
   "cell_type": "markdown",
   "metadata": {},
   "source": [
    "### Player N-Step Look ahead"
   ]
  },
  {
   "cell_type": "markdown",
   "metadata": {},
   "source": [
    "We can also look ahead N-steps with a minmax algorithm. With N=3, the performance did not improve."
   ]
  },
  {
   "cell_type": "code",
   "execution_count": 14,
   "metadata": {
    "scrolled": true
   },
   "outputs": [
    {
     "name": "stdout",
     "output_type": "stream",
     "text": [
      "Agent 1 Win Percentage: 0.7\n",
      "Agent 2 Win Percentage: 0.3\n",
      "Draws Percentage: 0.0\n",
      "Agent 1 Playing time per action 3.3502183581707965\n",
      "Agent 2 Playing time per action 0.008830301928524766\n"
     ]
    }
   ],
   "source": [
    "get_win_percentages(player_minmax_lvl1,player_lvl2,100)"
   ]
  },
  {
   "cell_type": "markdown",
   "metadata": {},
   "source": [
    "The computational time can be decreased by implementing a alpha-beta prunning."
   ]
  },
  {
   "cell_type": "code",
   "execution_count": 15,
   "metadata": {
    "scrolled": true
   },
   "outputs": [
    {
     "name": "stdout",
     "output_type": "stream",
     "text": [
      "Agent 1 Win Percentage: 0.67\n",
      "Agent 2 Win Percentage: 0.32\n",
      "Draws Percentage: 0.01\n",
      "Agent 1 Playing time per action 1.7164932386131855\n",
      "Agent 2 Playing time per action 0.009028124993196019\n"
     ]
    }
   ],
   "source": [
    "get_win_percentages(player_alphabeta_lvl1,player_lvl2,100)"
   ]
  },
  {
   "cell_type": "code",
   "execution_count": null,
   "metadata": {},
   "outputs": [],
   "source": [
    "get_win_percentages(player_random,player_lvl2,1000)"
   ]
  },
  {
   "cell_type": "code",
   "execution_count": null,
   "metadata": {},
   "outputs": [],
   "source": []
  }
 ],
 "metadata": {
  "kernelspec": {
   "display_name": "Python 3",
   "language": "python",
   "name": "python3"
  },
  "language_info": {
   "codemirror_mode": {
    "name": "ipython",
    "version": 3
   },
   "file_extension": ".py",
   "mimetype": "text/x-python",
   "name": "python",
   "nbconvert_exporter": "python",
   "pygments_lexer": "ipython3",
   "version": "3.7.4"
  }
 },
 "nbformat": 4,
 "nbformat_minor": 2
}
